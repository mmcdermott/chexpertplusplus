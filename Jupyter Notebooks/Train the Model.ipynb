{
 "cells": [
  {
   "cell_type": "markdown",
   "metadata": {},
   "source": [
    "# Imports"
   ]
  },
  {
   "cell_type": "code",
   "execution_count": 1,
   "metadata": {},
   "outputs": [],
   "source": [
    "%load_ext autoreload\n",
    "import sys\n",
    "\n",
    "sys.path.append('..')"
   ]
  },
  {
   "cell_type": "code",
   "execution_count": 2,
   "metadata": {},
   "outputs": [
    {
     "name": "stdout",
     "output_type": "stream",
     "text": [
      "Better speed can be achieved with apex installed from https://www.github.com/nvidia/apex.\n"
     ]
    }
   ],
   "source": [
    "%autoreload\n",
    "\n",
    "import itertools, os, pickle, pandas as pd\n",
    "from collections import Counter\n",
    "\n",
    "from chexpert_approximator.data_processor import *\n",
    "from chexpert_approximator.run_classifier import *\n",
    "\n",
    "from chexpert_approximator.reload_and_get_logits import *"
   ]
  },
  {
   "cell_type": "code",
   "execution_count": 3,
   "metadata": {},
   "outputs": [],
   "source": [
    "# We can't display MIMIC-CXR Output:\n",
    "\n",
    "DO_BLIND = True\n",
    "def blind_display(df):\n",
    "    if DO_BLIND:     \n",
    "        df = df.copy()\n",
    "        index_levels = df.index.names\n",
    "        df.reset_index('rad_id', inplace=True)\n",
    "        df['rad_id'] = [0 for _ in df['rad_id']]\n",
    "        df.set_index('rad_id', append=True, inplace=True)\n",
    "        df = df.reorder_levels(index_levels, axis=0)\n",
    "\n",
    "        for c in df.columns:\n",
    "            if pd.api.types.is_string_dtype(df[c]): df[c] = ['SAMPLE' for _ in df[c]]\n",
    "            else: df[c] = np.NaN\n",
    "\n",
    "    display(df.head())"
   ]
  },
  {
   "cell_type": "markdown",
   "metadata": {},
   "source": [
    "# Load the Data"
   ]
  },
  {
   "cell_type": "code",
   "execution_count": 4,
   "metadata": {},
   "outputs": [],
   "source": [
    "DATA_DIR = '/scratch/chexpert_approximator/processed_data/' # INSERT YOUR DATA DIR HERE!\n",
    "# DATA MUST BE STORED IN A FILE `inputs.hdf` under key `with_folds`.\n",
    "INPUT_PATH, INPUT_KEY = os.path.join(DATA_DIR, 'inputs.hdf'), 'with_folds'\n",
    "\n",
    "# YOUR CLINICAL BERT MODEL GOES HERE\n",
    "BERT_MODEL_PATH = (\n",
    "    '/data/medg/misc/clinical_BERT/cliniBERT/models/pretrained_bert_tf/bert_pretrain_output_all_notes_300000/'\n",
    ")\n",
    "\n",
    "# THIS IS WHERE YOUR PRE-TRAINED CHEXPERT++ MODEL WILL BE WRITTEN\n",
    "OUT_CXPPP_DIR = '../out/run_1'\n",
    "\n",
    "# DON'T MODIFY THESE\n",
    "FOLD = 'Fold'\n",
    "\n",
    "KEY = {\n",
    "    0: 'No Mention',\n",
    "    1: 'Uncertain Mention',\n",
    "    2: 'Negative Mention',\n",
    "    3: 'Positive Mention',\n",
    "}\n",
    "INV_KEY = {v: k for k, v in KEY.items()}"
   ]
  },
  {
   "cell_type": "code",
   "execution_count": 5,
   "metadata": {},
   "outputs": [],
   "source": [
    "inputs = pd.read_hdf(INPUT_PATH, INPUT_KEY)\n",
    "label_cols = [col for col in inputs.index.names if col not in ('rad_id', FOLD)]"
   ]
  },
  {
   "cell_type": "code",
   "execution_count": 6,
   "metadata": {},
   "outputs": [
    {
     "data": {
      "text/html": [
       "<div>\n",
       "<style scoped>\n",
       "    .dataframe tbody tr th:only-of-type {\n",
       "        vertical-align: middle;\n",
       "    }\n",
       "\n",
       "    .dataframe tbody tr th {\n",
       "        vertical-align: top;\n",
       "    }\n",
       "\n",
       "    .dataframe thead th {\n",
       "        text-align: right;\n",
       "    }\n",
       "</style>\n",
       "<table border=\"1\" class=\"dataframe\">\n",
       "  <thead>\n",
       "    <tr style=\"text-align: right;\">\n",
       "      <th></th>\n",
       "      <th></th>\n",
       "      <th></th>\n",
       "      <th></th>\n",
       "      <th></th>\n",
       "      <th></th>\n",
       "      <th></th>\n",
       "      <th></th>\n",
       "      <th></th>\n",
       "      <th></th>\n",
       "      <th></th>\n",
       "      <th></th>\n",
       "      <th></th>\n",
       "      <th></th>\n",
       "      <th></th>\n",
       "      <th></th>\n",
       "      <th>sentence</th>\n",
       "    </tr>\n",
       "    <tr>\n",
       "      <th>rad_id</th>\n",
       "      <th>No Finding</th>\n",
       "      <th>Enlarged Cardiomediastinum</th>\n",
       "      <th>Cardiomegaly</th>\n",
       "      <th>Lung Lesion</th>\n",
       "      <th>Airspace Opacity</th>\n",
       "      <th>Edema</th>\n",
       "      <th>Consolidation</th>\n",
       "      <th>Pneumonia</th>\n",
       "      <th>Atelectasis</th>\n",
       "      <th>Pneumothorax</th>\n",
       "      <th>Pleural Effusion</th>\n",
       "      <th>Pleural Other</th>\n",
       "      <th>Fracture</th>\n",
       "      <th>Support Devices</th>\n",
       "      <th>Fold</th>\n",
       "      <th></th>\n",
       "    </tr>\n",
       "  </thead>\n",
       "  <tbody>\n",
       "    <tr>\n",
       "      <th rowspan=\"5\" valign=\"top\">0</th>\n",
       "      <th rowspan=\"4\" valign=\"top\">Positive Mention</th>\n",
       "      <th>No Mention</th>\n",
       "      <th>No Mention</th>\n",
       "      <th>No Mention</th>\n",
       "      <th>No Mention</th>\n",
       "      <th>No Mention</th>\n",
       "      <th>No Mention</th>\n",
       "      <th>No Mention</th>\n",
       "      <th>No Mention</th>\n",
       "      <th>No Mention</th>\n",
       "      <th>No Mention</th>\n",
       "      <th>No Mention</th>\n",
       "      <th>No Mention</th>\n",
       "      <th>No Mention</th>\n",
       "      <th>6</th>\n",
       "      <td>SAMPLE</td>\n",
       "    </tr>\n",
       "    <tr>\n",
       "      <th>Negative Mention</th>\n",
       "      <th>No Mention</th>\n",
       "      <th>No Mention</th>\n",
       "      <th>No Mention</th>\n",
       "      <th>No Mention</th>\n",
       "      <th>No Mention</th>\n",
       "      <th>No Mention</th>\n",
       "      <th>No Mention</th>\n",
       "      <th>No Mention</th>\n",
       "      <th>No Mention</th>\n",
       "      <th>No Mention</th>\n",
       "      <th>No Mention</th>\n",
       "      <th>No Mention</th>\n",
       "      <th>6</th>\n",
       "      <td>SAMPLE</td>\n",
       "    </tr>\n",
       "    <tr>\n",
       "      <th rowspan=\"2\" valign=\"top\">No Mention</th>\n",
       "      <th rowspan=\"2\" valign=\"top\">No Mention</th>\n",
       "      <th rowspan=\"2\" valign=\"top\">No Mention</th>\n",
       "      <th rowspan=\"2\" valign=\"top\">No Mention</th>\n",
       "      <th rowspan=\"2\" valign=\"top\">No Mention</th>\n",
       "      <th rowspan=\"2\" valign=\"top\">No Mention</th>\n",
       "      <th rowspan=\"2\" valign=\"top\">No Mention</th>\n",
       "      <th rowspan=\"2\" valign=\"top\">No Mention</th>\n",
       "      <th rowspan=\"2\" valign=\"top\">No Mention</th>\n",
       "      <th rowspan=\"2\" valign=\"top\">No Mention</th>\n",
       "      <th rowspan=\"2\" valign=\"top\">No Mention</th>\n",
       "      <th rowspan=\"2\" valign=\"top\">No Mention</th>\n",
       "      <th rowspan=\"2\" valign=\"top\">No Mention</th>\n",
       "      <th>6</th>\n",
       "      <td>SAMPLE</td>\n",
       "    </tr>\n",
       "    <tr>\n",
       "      <th>4</th>\n",
       "      <td>SAMPLE</td>\n",
       "    </tr>\n",
       "    <tr>\n",
       "      <th>No Mention</th>\n",
       "      <th>No Mention</th>\n",
       "      <th>No Mention</th>\n",
       "      <th>No Mention</th>\n",
       "      <th>Positive Mention</th>\n",
       "      <th>No Mention</th>\n",
       "      <th>No Mention</th>\n",
       "      <th>No Mention</th>\n",
       "      <th>No Mention</th>\n",
       "      <th>No Mention</th>\n",
       "      <th>No Mention</th>\n",
       "      <th>No Mention</th>\n",
       "      <th>No Mention</th>\n",
       "      <th>No Mention</th>\n",
       "      <th>4</th>\n",
       "      <td>SAMPLE</td>\n",
       "    </tr>\n",
       "  </tbody>\n",
       "</table>\n",
       "</div>"
      ],
      "text/plain": [
       "                                                                                                                                                                                                                         sentence\n",
       "rad_id No Finding       Enlarged Cardiomediastinum Cardiomegaly Lung Lesion Airspace Opacity Edema      Consolidation Pneumonia  Atelectasis Pneumothorax Pleural Effusion Pleural Other Fracture   Support Devices Fold         \n",
       "0      Positive Mention No Mention                 No Mention   No Mention  No Mention       No Mention No Mention    No Mention No Mention  No Mention   No Mention       No Mention    No Mention No Mention      6      SAMPLE\n",
       "                        Negative Mention           No Mention   No Mention  No Mention       No Mention No Mention    No Mention No Mention  No Mention   No Mention       No Mention    No Mention No Mention      6      SAMPLE\n",
       "                        No Mention                 No Mention   No Mention  No Mention       No Mention No Mention    No Mention No Mention  No Mention   No Mention       No Mention    No Mention No Mention      6      SAMPLE\n",
       "                                                                                                                                                                                                                    4      SAMPLE\n",
       "       No Mention       No Mention                 No Mention   No Mention  Positive Mention No Mention No Mention    No Mention No Mention  No Mention   No Mention       No Mention    No Mention No Mention      4      SAMPLE"
      ]
     },
     "metadata": {},
     "output_type": "display_data"
    }
   ],
   "source": [
    "blind_display(inputs)"
   ]
  },
  {
   "cell_type": "markdown",
   "metadata": {},
   "source": [
    "# Model\n",
    "## Data Processor"
   ]
  },
  {
   "cell_type": "code",
   "execution_count": 44,
   "metadata": {},
   "outputs": [],
   "source": [
    "class CheXpertProcessor(DataProcessor):\n",
    "    def __init__(self, tuning_fold, held_out_fold):\n",
    "        super().__init__()\n",
    "        self.tuning_fold, self.held_out_fold = tuning_fold, held_out_fold\n",
    "    \n",
    "    \"\"\"Processor for the CheXpert approximator.\n",
    "    Honestly this is kind of silly, as it never stores internal state.\"\"\"\n",
    "    def get_train_examples(self, df): return self._create_examples(\n",
    "        df, set([f for f in range(K) if f not in (self.tuning_fold, self.held_out_fold)])\n",
    "    )\n",
    "    def get_dev_examples(self, df):   return self._create_examples(df, set([self.tuning_fold]))\n",
    "    def get_examples(self, df, folds=[]): return self._create_examples(df, set(folds))\n",
    "    \n",
    "    def get_labels(self): return {label: list(range(4)) for label in label_cols}\n",
    "\n",
    "    def _create_examples(self, df, folds):\n",
    "        \"\"\"Creates examples for the training and dev sets.\"\"\"\n",
    "        df = df[df.index.get_level_values(FOLD).isin(folds)]\n",
    "        lmap = {l: i for i, l in enumerate(df.index.names)}\n",
    "        \n",
    "        examples = []\n",
    "        for idx, r in df.iterrows():\n",
    "            labels = {l: INV_KEY[idx[lmap[l]]] for l in label_cols}\n",
    "            \n",
    "            examples.append(InputExample(\n",
    "                guid=str(idx[lmap['rad_id']]), text_a=r.sentence, text_b=None, label=labels\n",
    "            ))\n",
    "        return examples"
   ]
  },
  {
   "cell_type": "markdown",
   "metadata": {},
   "source": [
    "## Running the Model"
   ]
  },
  {
   "cell_type": "code",
   "execution_count": 45,
   "metadata": {},
   "outputs": [],
   "source": [
    "processor = CheXpertProcessor(8, 9)\n",
    "# train_examples = processor.get_train_examples(inputs)\n",
    "# dev_examples = processor.get_dev_examples(inputs)"
   ]
  },
  {
   "cell_type": "code",
   "execution_count": 13,
   "metadata": {},
   "outputs": [],
   "source": [
    "os.environ['CUDA_VISIBLE_DEVICES'] = '0,1,2'"
   ]
  },
  {
   "cell_type": "code",
   "execution_count": null,
   "metadata": {
    "scrolled": false
   },
   "outputs": [
    {
     "name": "stdout",
     "output_type": "stream",
     "text": [
      "/data/medg/misc/clinical_BERT/cliniBERT/models/pretrained_bert_tf/bert_pretrain_output_all_notes_300000/\n",
      "Max Sequence Length: 112\n"
     ]
    },
    {
     "data": {
      "application/vnd.jupyter.widget-view+json": {
       "model_id": "",
       "version_major": 2,
       "version_minor": 0
      },
      "text/plain": [
       "HBox(children=(IntProgress(value=0, description='Epoch', max=5, style=ProgressStyle(description_width='initial…"
      ]
     },
     "metadata": {},
     "output_type": "display_data"
    },
    {
     "data": {
      "application/vnd.jupyter.widget-view+json": {
       "model_id": "",
       "version_major": 2,
       "version_minor": 0
      },
      "text/plain": [
       "HBox(children=(IntProgress(value=0, description='Iteration', max=18840, style=ProgressStyle(description_width=…"
      ]
     },
     "metadata": {},
     "output_type": "display_data"
    },
    {
     "name": "stderr",
     "output_type": "stream",
     "text": [
      "/scratch/conda_envs/chexpert_approximator/lib/python3.7/site-packages/torch/nn/parallel/_functions.py:61: UserWarning: Was asked to gather along dimension 0, but all input tensors were scalars; will instead unsqueeze and return a vector.\n",
      "  warnings.warn('Was asked to gather along dimension 0, but all '\n"
     ]
    },
    {
     "data": {
      "application/vnd.jupyter.widget-view+json": {
       "model_id": "",
       "version_major": 2,
       "version_minor": 0
      },
      "text/plain": [
       "HBox(children=(IntProgress(value=0, description='Iteration', max=18840, style=ProgressStyle(description_width=…"
      ]
     },
     "metadata": {},
     "output_type": "display_data"
    },
    {
     "data": {
      "application/vnd.jupyter.widget-view+json": {
       "model_id": "",
       "version_major": 2,
       "version_minor": 0
      },
      "text/plain": [
       "HBox(children=(IntProgress(value=0, description='Iteration', max=18840, style=ProgressStyle(description_width=…"
      ]
     },
     "metadata": {},
     "output_type": "display_data"
    }
   ],
   "source": [
    "out = build_and_train(\n",
    "    inputs,\n",
    "    bert_model = BERT_MODEL_PATH,\n",
    "    processor  = processor,\n",
    "    task_dimensions = {l: 4 for l in label_cols},\n",
    "    output_dir = OUT_CXPPP_DIR,\n",
    "    gradient_accumulation_steps = 1,\n",
    "    gpu                         = '0,1,2',\n",
    "    do_train                    = True,\n",
    "    do_eval                     = True,\n",
    "    seed                        = 42,\n",
    "    do_lower_case               = False,\n",
    "    max_seq_length              = 128,\n",
    "    train_batch_size            = 32,\n",
    "    eval_batch_size             = 8,\n",
    "    learning_rate               = 5e-5,\n",
    "    num_train_epochs            = 5,\n",
    "    warmup_proportion           = 0.1,\n",
    ")"
   ]
  },
  {
   "cell_type": "code",
   "execution_count": 16,
   "metadata": {},
   "outputs": [
    {
     "data": {
      "text/plain": [
       "{'eval_loss': 0.04080065189753456,\n",
       " 'eval_accuracy': 0.9992550486952994,\n",
       " 'global_step': 94200,\n",
       " 'loss': 0.0014591591281715949}"
      ]
     },
     "execution_count": 16,
     "metadata": {},
     "output_type": "execute_result"
    }
   ],
   "source": [
    "out"
   ]
  }
 ],
 "metadata": {
  "kernelspec": {
   "display_name": "Python 3",
   "language": "python",
   "name": "python3"
  },
  "language_info": {
   "codemirror_mode": {
    "name": "ipython",
    "version": 3
   },
   "file_extension": ".py",
   "mimetype": "text/x-python",
   "name": "python",
   "nbconvert_exporter": "python",
   "pygments_lexer": "ipython3",
   "version": "3.7.3"
  }
 },
 "nbformat": 4,
 "nbformat_minor": 2
}
